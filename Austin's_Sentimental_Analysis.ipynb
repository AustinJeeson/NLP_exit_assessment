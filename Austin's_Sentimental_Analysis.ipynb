{
  "nbformat": 4,
  "nbformat_minor": 0,
  "metadata": {
    "colab": {
      "provenance": [],
      "gpuType": "T4"
    },
    "kernelspec": {
      "name": "python3",
      "display_name": "Python 3"
    },
    "language_info": {
      "name": "python"
    }
  },
  "cells": [
    {
      "cell_type": "code",
      "source": [
        "import pandas as pd\n",
        "import re\n",
        "from sklearn.feature_extraction.text import TfidfVectorizer\n",
        "from sklearn.linear_model import LogisticRegression\n",
        "from sklearn.pipeline import Pipeline\n",
        "from sklearn.model_selection import train_test_split\n",
        "from sklearn.metrics import classification_report, accuracy_score, f1_score\n",
        "\n",
        "# Load the datasets\n",
        "train_path = \"/content/drive/MyDrive/Exit_Project/train_2kmZucJ.csv\"\n",
        "test_path = \"/content/drive/MyDrive/Exit_Project/test_oJQbWVk.csv\"\n",
        "train_df = pd.read_csv(train_path)\n",
        "test_df = pd.read_csv(test_path)\n",
        "\n",
        "# Inspect label distribution\n",
        "print(\"Label Distribution:\\n\", train_df['label'].value_counts())\n",
        "\n",
        "# Text cleaning function\n",
        "def clean_text(text):\n",
        "    text = re.sub(r\"http\\S+\", \"\", text)          # Remove URLs\n",
        "    text = re.sub(r\"#\\S+\", \"\", text)             # Remove hashtags\n",
        "    text = re.sub(r\"@\\S+\", \"\", text)             # Remove mentions\n",
        "    text = re.sub(r\"[^A-Za-z0-9\\s]\", \"\", text)   # Remove special characters\n",
        "    text = text.lower().strip()                  # Lowercase and strip\n",
        "    return text\n",
        "\n",
        "# Clean tweets\n",
        "train_df[\"clean_tweet\"] = train_df[\"tweet\"].apply(clean_text)\n",
        "test_df[\"clean_tweet\"] = test_df[\"tweet\"].apply(clean_text)\n",
        "\n",
        "# Split data for validation\n",
        "X = train_df[\"clean_tweet\"]\n",
        "y = train_df[\"label\"]\n",
        "X_train, X_val, y_train, y_val = train_test_split(X, y, test_size=0.2, random_state=42)\n",
        "\n",
        "# Improved pipeline with class_weight and tuned vectorizer\n",
        "model = Pipeline([\n",
        "    ('tfidf', TfidfVectorizer(max_features=7000, ngram_range=(1,2))),\n",
        "    ('clf', LogisticRegression(max_iter=1000, class_weight='balanced', C=1.0))\n",
        "])\n",
        "\n",
        "# Train the model\n",
        "model.fit(X_train, y_train)\n",
        "\n",
        "# Validation predictions\n",
        "val_preds = model.predict(X_val)\n",
        "\n",
        "# Evaluate\n",
        "print(\"📊 Validation Performance:\")\n",
        "print(\"Accuracy:\", accuracy_score(y_val, val_preds))\n",
        "print(\"F1 Score:\", f1_score(y_val, val_preds))\n",
        "print(\"Classification Report (1 = negative , 0 = non-negative):\\n\", classification_report(y_val, val_preds))\n",
        "\n",
        "# Predict on test set\n",
        "test_preds = model.predict(test_df[\"clean_tweet\"])\n",
        "test_df[\"label\"] = test_preds\n",
        "\n",
        "# Save predictions\n",
        "test_df[['id', 'label']].to_csv(\"test_predictions_fixed.csv\", index=False)\n",
        "\n",
        "# Show a few predictions\n",
        "print(\"\\n🔍 Sample Predictions:\")\n",
        "print(test_df[['id', 'tweet', 'label']])\n"
      ],
      "metadata": {
        "id": "086ivoweXsy0",
        "colab": {
          "base_uri": "https://localhost:8080/"
        },
        "outputId": "7d267203-7d24-4745-ee01-ea798954412b"
      },
      "execution_count": 5,
      "outputs": [
        {
          "output_type": "stream",
          "name": "stdout",
          "text": [
            "Label Distribution:\n",
            " label\n",
            "0    5894\n",
            "1    2026\n",
            "Name: count, dtype: int64\n",
            "📊 Validation Performance:\n",
            "Accuracy: 0.8529040404040404\n",
            "F1 Score: 0.7639311043566362\n",
            "Classification Report (1 = negative , 0 = non-negative):\n",
            "               precision    recall  f1-score   support\n",
            "\n",
            "           0       0.95      0.85      0.89      1152\n",
            "           1       0.68      0.87      0.76       432\n",
            "\n",
            "    accuracy                           0.85      1584\n",
            "   macro avg       0.81      0.86      0.83      1584\n",
            "weighted avg       0.87      0.85      0.86      1584\n",
            "\n",
            "\n",
            "🔍 Sample Predictions:\n",
            "        id                                              tweet  label\n",
            "0     7921  I hate the new #iphone upgrade. Won't let me d...      1\n",
            "1     7922  currently shitting my fucking pants. #apple #i...      1\n",
            "2     7923  I'd like to puts some CD-ROMS on my iPad, is t...      1\n",
            "3     7924  My ipod is officially dead. I lost all my pict...      1\n",
            "4     7925  Been fighting iTunes all night! I only want th...      1\n",
            "...    ...                                                ...    ...\n",
            "1948  9869  #SamsungGalaxyNote7 Explodes, Burns 6-Year-Old...      1\n",
            "1949  9870  Now Available - Hoodie. Check it out here - ht...      0\n",
            "1950  9871  There goes a crack right across the screen. If...      1\n",
            "1951  9872  @codeofinterest as i said #Adobe big time we m...      1\n",
            "1952  9873  Finally I got it .. thanx my father .. #Samsun...      0\n",
            "\n",
            "[1953 rows x 3 columns]\n"
          ]
        }
      ]
    },
    {
      "cell_type": "code",
      "source": [
        "from sklearn.metrics import confusion_matrix, ConfusionMatrixDisplay\n",
        "import matplotlib.pyplot as plt\n",
        "\n",
        "# Assuming y_val and val_preds are already defined\n",
        "cm = confusion_matrix(y_val, val_preds, labels=[0, 1])\n",
        "disp = ConfusionMatrixDisplay(confusion_matrix=cm, display_labels=[\"Negative\", \"Positive\"])\n",
        "\n",
        "plt.figure(figsize=(6, 5))\n",
        "disp.plot(cmap=\"Blues\", values_format='d')\n",
        "plt.title(\"Confusion Matrix - Validation Set\")\n",
        "plt.grid(False)\n",
        "plt.show()"
      ],
      "metadata": {
        "colab": {
          "base_uri": "https://localhost:8080/",
          "height": 490
        },
        "id": "N2D3OiThhqHc",
        "outputId": "453ee45b-f9b0-4cd3-b2a3-ba9e3c9a7ce6"
      },
      "execution_count": 6,
      "outputs": [
        {
          "output_type": "display_data",
          "data": {
            "text/plain": [
              "<Figure size 600x500 with 0 Axes>"
            ]
          },
          "metadata": {}
        },
        {
          "output_type": "display_data",
          "data": {
            "text/plain": [
              "<Figure size 640x480 with 2 Axes>"
            ],
            "image/png": "[encoded data removed]"
          },
          "metadata": {}
        }
      ]
    },
    {
      "cell_type": "code",
      "source": [
        "from google.colab import files\n",
        "files.download('test_predictions_fixed.csv')"
      ],
      "metadata": {
        "colab": {
          "base_uri": "https://localhost:8080/",
          "height": 17
        },
        "id": "ptg6RNenjm-B",
        "outputId": "1e38844c-3bbc-4809-d28e-28fa4722c10f"
      },
      "execution_count": 7,
      "outputs": [
        {
          "output_type": "display_data",
          "data": {
            "text/plain": [
              "<IPython.core.display.Javascript object>"
            ],
            "application/javascript": [
              "\n",
              "    async function download(id, filename, size) {\n",
              "      if (!google.colab.kernel.accessAllowed) {\n",
              "        return;\n",
              "      }\n",
              "      const div = document.createElement('div');\n",
              "      const label = document.createElement('label');\n",
              "      label.textContent = `Downloading \"${filename}\": `;\n",
              "      div.appendChild(label);\n",
              "      const progress = document.createElement('progress');\n",
              "      progress.max = size;\n",
              "      div.appendChild(progress);\n",
              "      document.body.appendChild(div);\n",
              "\n",
              "      const buffers = [];\n",
              "      let downloaded = 0;\n",
              "\n",
              "      const channel = await google.colab.kernel.comms.open(id);\n",
              "      // Send a message to notify the kernel that we're ready.\n",
              "      channel.send({})\n",
              "\n",
              "      for await (const message of channel.messages) {\n",
              "        // Send a message to notify the kernel that we're ready.\n",
              "        channel.send({})\n",
              "        if (message.buffers) {\n",
              "          for (const buffer of message.buffers) {\n",
              "            buffers.push(buffer);\n",
              "            downloaded += buffer.byteLength;\n",
              "            progress.value = downloaded;\n",
              "          }\n",
              "        }\n",
              "      }\n",
              "      const blob = new Blob(buffers, {type: 'application/binary'});\n",
              "      const a = document.createElement('a');\n",
              "      a.href = window.URL.createObjectURL(blob);\n",
              "      a.download = filename;\n",
              "      div.appendChild(a);\n",
              "      a.click();\n",
              "      div.remove();\n",
              "    }\n",
              "  "
            ]
          },
          "metadata": {}
        },
        {
          "output_type": "display_data",
          "data": {
            "text/plain": [
              "<IPython.core.display.Javascript object>"
            ],
            "application/javascript": [
              "download(\"download_607162be-6a79-46c6-ac71-911cd48d79b1\", \"test_predictions_fixed.csv\", 13680)"
            ]
          },
          "metadata": {}
        }
      ]
    }
  ]
}